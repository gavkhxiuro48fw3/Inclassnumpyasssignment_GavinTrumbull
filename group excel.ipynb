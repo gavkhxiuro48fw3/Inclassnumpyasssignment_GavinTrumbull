{
 "cells": [
  {
   "cell_type": "code",
   "execution_count": 14,
   "id": "5790d3be",
   "metadata": {},
   "outputs": [],
   "source": [
    "import numpy as np"
   ]
  },
  {
   "cell_type": "code",
   "execution_count": 15,
   "id": "b933818c",
   "metadata": {},
   "outputs": [],
   "source": [
    "data=np.genfromtxt(\"heart.csv\",delimiter=\",\", skip_header=True)"
   ]
  },
  {
   "cell_type": "code",
   "execution_count": 95,
   "id": "5485c3a5",
   "metadata": {},
   "outputs": [
    {
     "name": "stdout",
     "output_type": "stream",
     "text": [
      "age: [63. 37. 41. 56. 57.]\n",
      "cholestoral: [233. 250. 204. 236. 354.]\n",
      "sex: [1. 1. 0. 1. 0.]\n",
      "blood presure: [145. 130. 130. 120. 120.]\n",
      "chest pain: [3. 2. 1. 1. 0.]\n",
      "thalach: [150. 187. 172. 178. 163.]\n"
     ]
    }
   ],
   "source": [
    "age=data[:,0]\n",
    "print(f\"age: {age[:5]}\")\n",
    "chol=data[:,4]\n",
    "print(f\"cholestoral: {chol[:5]}\")\n",
    "sex=data[:,1]\n",
    "print(f\"sex: {sex[:5]}\")\n",
    "trestbps=data[:,3]\n",
    "print(f\"blood presure: {trestbps[:5]}\")\n",
    "cp=data[:,2]\n",
    "print(f\"chest pain: {cp[:5]}\")\n",
    "thalach=data[:,7]\n",
    "print(f\"thalach: {thalach[:5]}\")"
   ]
  },
  {
   "cell_type": "code",
   "execution_count": 96,
   "id": "073977fc",
   "metadata": {},
   "outputs": [],
   "source": [
    "#sex(1=female,0=male)"
   ]
  },
  {
   "cell_type": "code",
   "execution_count": 122,
   "id": "f1ca9a3a",
   "metadata": {},
   "outputs": [
    {
     "name": "stdout",
     "output_type": "stream",
     "text": [
      "---Basic Descriptive Statistics on Age---\n",
      "Mean:, 54\n",
      "Median: 55.0\n",
      "Standard Deviation: 9\n",
      "Min: 29.0\n",
      "Max: 77.0\n"
     ]
    }
   ],
   "source": [
    "print(\"---Basic Descriptive Statistics on Age---\")\n",
    "print(f\"Mean:, {round(np.mean(age))}\")\n",
    "print(f\"Median: {np.median(age)}\")\n",
    "print(f\"Standard Deviation: {round(np.std(age))}\")\n",
    "print(f\"Min: {np.min(age)}\")\n",
    "print(f\"Max: {np.max(age)}\")"
   ]
  },
  {
   "cell_type": "code",
   "execution_count": 98,
   "id": "6a63a30c",
   "metadata": {},
   "outputs": [
    {
     "name": "stdout",
     "output_type": "stream",
     "text": [
      "---Basic Descriptive Statistics on Cholestoral---\n",
      "Mean:, 246\n",
      "Median: 240.0\n",
      "Standard Deviation: 52\n",
      "Min: 126.0\n",
      "Max: 564.0\n"
     ]
    }
   ],
   "source": [
    "print(\"---Basic Descriptive Statistics on Cholestoral---\")\n",
    "print(f\"Mean:, {round(np.mean(chol))}\")\n",
    "print(f\"Median: {np.median(chol)}\")\n",
    "print(f\"Standard Deviation: {round(np.std(chol))}\")\n",
    "print(f\"Min: {np.min(chol)}\")\n",
    "print(f\"Max: {np.max(chol)}\")"
   ]
  },
  {
   "cell_type": "code",
   "execution_count": 124,
   "id": "327da28c",
   "metadata": {},
   "outputs": [
    {
     "name": "stdout",
     "output_type": "stream",
     "text": [
      "---Basic Descriptive Statistics on sex---\n",
      "Mean:, 1\n",
      "Median: 1.0\n",
      "Standard Deviation: 0\n",
      "Min: 0.0\n",
      "Max: 1.0\n"
     ]
    }
   ],
   "source": [
    "print(\"---Basic Descriptive Statistics on sex---\")\n",
    "print(f\"Mean:, {round(np.mean(sex))}\")\n",
    "print(f\"Median: {np.median(sex)}\")\n",
    "print(f\"Standard Deviation: {round(np.std(sex))}\")\n",
    "print(f\"Min: {np.min(sex)}\")\n",
    "print(f\"Max: {np.max(sex)}\")"
   ]
  },
  {
   "cell_type": "code",
   "execution_count": 123,
   "id": "7559f194",
   "metadata": {},
   "outputs": [
    {
     "name": "stdout",
     "output_type": "stream",
     "text": [
      "---Basic Descriptive Statistics on trestbps---\n",
      "Mean:, 132\n",
      "Median: 130.0\n",
      "Standard Deviation: 18\n",
      "Min: 94.0\n",
      "Max: 200.0\n"
     ]
    }
   ],
   "source": [
    "print(\"---Basic Descriptive Statistics on trestbps---\")\n",
    "print(f\"Mean:, {round(np.mean(trestbps))}\")\n",
    "print(f\"Median: {np.median(trestbps)}\")\n",
    "print(f\"Standard Deviation: {round(np.std(trestbps))}\")\n",
    "print(f\"Min: {np.min(trestbps)}\")\n",
    "print(f\"Max: {np.max(trestbps)}\")"
   ]
  },
  {
   "cell_type": "code",
   "execution_count": 101,
   "id": "e6f5890e",
   "metadata": {},
   "outputs": [
    {
     "name": "stdout",
     "output_type": "stream",
     "text": [
      "---Basic Descriptive Statistics on chest pain---\n",
      "Mean:, 1\n",
      "Median: 1.0\n",
      "Standard Deviation: 1\n",
      "Min: 0.0\n"
     ]
    }
   ],
   "source": [
    "print(\"---Basic Descriptive Statistics on chest pain---\")\n",
    "print(f\"Mean:, {round(np.mean(cp))}\")\n",
    "print(f\"Median: {np.median(cp)}\")\n",
    "print(f\"Standard Deviation: {round(np.std(cp))}\")\n",
    "print(f\"Min: {np.min(cp)}\")"
   ]
  },
  {
   "cell_type": "code",
   "execution_count": 102,
   "id": "75185db9",
   "metadata": {},
   "outputs": [],
   "source": []
  },
  {
   "cell_type": "code",
   "execution_count": 103,
   "id": "c0fed568",
   "metadata": {},
   "outputs": [
    {
     "name": "stdout",
     "output_type": "stream",
     "text": [
      "Number of females: 96\n",
      "number of females with high cholestoral: 82\n",
      "Proportion of females with high cholestoral: 0.8541666666666666\n"
     ]
    }
   ],
   "source": [
    "filtered_data1=data[(sex==0)]\n",
    "print(f\"Number of females: {len(filtered_data1)}\")\n",
    "filtered_data2=data[(sex==0) & (chol>200)]\n",
    "print(f\"number of females with high cholestoral: {len(filtered_data2)}\")\n",
    "print(f\"Proportion of females with high cholestoral: {len(filtered_data2)/len(filtered_data1)}\")"
   ]
  },
  {
   "cell_type": "code",
   "execution_count": 119,
   "id": "d2a5c7d8",
   "metadata": {},
   "outputs": [
    {
     "name": "stdout",
     "output_type": "stream",
     "text": [
      "Number of males: 207\n",
      "number of males with high cholestoral: 170\n",
      "Proportion of males with high cholestoral: 0.821256038647343\n"
     ]
    }
   ],
   "source": [
    "filtered_data3=data[(sex>0)]\n",
    "print(f\"Number of males: {len(filtered_data3)}\")\n",
    "filtered_data4=data[(sex>0) & (chol>200)]\n",
    "print(f\"number of males with high cholestoral: {len(filtered_data4)}\")\n",
    "print(f\"Proportion of males with high cholestoral: {len(filtered_data4)/len(filtered_data3)}\")"
   ]
  },
  {
   "cell_type": "code",
   "execution_count": 105,
   "id": "ea5e757c",
   "metadata": {},
   "outputs": [
    {
     "name": "stdout",
     "output_type": "stream",
     "text": [
      "number of people with atypical anginal chest pain: 50\n",
      "number of people with nonanginal chest pain: 87\n",
      "number of people with typical chest pain: 23\n",
      "number of people without typical chest pain: 143\n"
     ]
    }
   ],
   "source": [
    "filtered_data5=data[(cp==1)]\n",
    "print(f\"number of people with atypical anginal chest pain: {len(filtered_data5)}\")\n",
    "filtered_data6=data[(cp==2)]\n",
    "print(f\"number of people with nonanginal chest pain: {len(filtered_data6)}\")\n",
    "filtered_data7=data[(cp==3)]\n",
    "print(f\"number of people with typical chest pain: {len(filtered_data7)}\")\n",
    "filtered_data8=data[(cp==0)]\n",
    "print(f\"number of people without typical chest pain: {len(filtered_data8)}\")\n"
   ]
  },
  {
   "cell_type": "code",
   "execution_count": 106,
   "id": "a66c681c",
   "metadata": {},
   "outputs": [
    {
     "name": "stdout",
     "output_type": "stream",
     "text": [
      "number of people with high cholestoral: 252\n"
     ]
    }
   ],
   "source": [
    "filtered_data9=data[(chol>200)]\n",
    "print(f\"number of people with high cholestoral: {len(filtered_data9)}\")"
   ]
  },
  {
   "cell_type": "code",
   "execution_count": 120,
   "id": "2fa49499",
   "metadata": {},
   "outputs": [
    {
     "name": "stdout",
     "output_type": "stream",
     "text": [
      "number of people 50 or over: 215\n",
      "number of people under 50: 88\n"
     ]
    }
   ],
   "source": [
    "filtered_data10=data[(age>=50)]\n",
    "print(f\"number of people 50 or over: {len(filtered_data10)}\")\n",
    "filtered_data11=data[(age<50)]\n",
    "print(f\"number of people under 50: {len(filtered_data11)}\")"
   ]
  },
  {
   "cell_type": "code",
   "execution_count": 121,
   "id": "c9ab911f",
   "metadata": {},
   "outputs": [
    {
     "name": "stdout",
     "output_type": "stream",
     "text": [
      "number of people 50 or over with high cholestoral: 186\n"
     ]
    }
   ],
   "source": [
    "filtered_data20=data[(age>=50)&(chol>200)]\n",
    "print(f\"number of people 50 or over with high cholestoral: {len(filtered_data20)}\")\n"
   ]
  },
  {
   "cell_type": "markdown",
   "id": "52fb6c85",
   "metadata": {},
   "source": [
    "# data corelation"
   ]
  },
  {
   "cell_type": "code",
   "execution_count": 118,
   "id": "9b207661",
   "metadata": {},
   "outputs": [
    {
     "name": "stdout",
     "output_type": "stream",
     "text": [
      "Correlation between age and cholestoral: [[1.         0.21367796]\n",
      " [0.21367796 1.        ]]\n",
      "Correlation between trestbps and cholestoral: [[1.         0.12317421]\n",
      " [0.12317421 1.        ]]\n",
      "Correlation between age and trestbps: [[1.         0.27935091]\n",
      " [0.27935091 1.        ]]\n",
      "Correlation between age and thalach: [[ 1.         -0.39852194]\n",
      " [-0.39852194  1.        ]]\n",
      "Correlation between age and chest pain: [[ 1.         -0.06865302]\n",
      " [-0.06865302  1.        ]]\n",
      "Correlation between cholestoral and trestbps: [[1.         0.12317421]\n",
      " [0.12317421 1.        ]]\n",
      "Correlation between cholestoral and chest pain: [[ 1.         -0.07690439]\n",
      " [-0.07690439  1.        ]]\n",
      "Correlation between trestbps and chest pain: [[1.         0.04760776]\n",
      " [0.04760776 1.        ]]\n"
     ]
    }
   ],
   "source": [
    "corr_col=np.corrcoef(age,chol,rowvar=False)\n",
    "print(f\"Correlation between age and cholestoral: {corr_col}\")\n",
    "corr_col1=np.corrcoef(chol,trestbps,rowvar=False)\n",
    "print(f\"Correlation between trestbps and cholestoral: {corr_col1}\")\n",
    "corr_col2=np.corrcoef(age,trestbps,rowvar=False)\n",
    "print(f\"Correlation between age and trestbps: {corr_col2}\")\n",
    "corr_col3=np.corrcoef(age,thalach,rowvar=False)\n",
    "print(f\"Correlation between age and thalach: {corr_col3}\")\n",
    "corr_col4=np.corrcoef(age,cp,rowvar=False)\n",
    "print(f\"Correlation between age and chest pain: {corr_col4}\")\n",
    "corr_col5=np.corrcoef(chol,trestbps,rowvar=False)\n",
    "print(f\"Correlation between cholestoral and trestbps: {corr_col5}\")\n",
    "corr_col6=np.corrcoef(chol,cp,rowvar=False)\n",
    "print(f\"Correlation between cholestoral and chest pain: {corr_col6}\")\n",
    "corr_col7=np.corrcoef(trestbps,cp,rowvar=False)\n",
    "print(f\"Correlation between trestbps and chest pain: {corr_col7}\")\n"
   ]
  },
  {
   "cell_type": "code",
   "execution_count": null,
   "id": "ac42821a",
   "metadata": {},
   "outputs": [],
   "source": []
  },
  {
   "cell_type": "markdown",
   "id": "fb89c4a8",
   "metadata": {},
   "source": [
    "# summary\n",
    "we took data on age, sex, cholestoral, chest pain, trestbps, and thalach. \n",
    "we found that women were proportionally more likely to have heart problems than men since 82 percent of men had high cholestoral and 85 percent of women had high cholestoral.\n",
    "the correlation between most other variables were weak.\n"
   ]
  },
  {
   "cell_type": "code",
   "execution_count": null,
   "id": "d0e703a4",
   "metadata": {},
   "outputs": [],
   "source": []
  }
 ],
 "metadata": {
  "kernelspec": {
   "display_name": "Python 3 (ipykernel)",
   "language": "python",
   "name": "python3"
  },
  "language_info": {
   "codemirror_mode": {
    "name": "ipython",
    "version": 3
   },
   "file_extension": ".py",
   "mimetype": "text/x-python",
   "name": "python",
   "nbconvert_exporter": "python",
   "pygments_lexer": "ipython3",
   "version": "3.11.5"
  }
 },
 "nbformat": 4,
 "nbformat_minor": 5
}
